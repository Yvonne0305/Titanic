{
 "cells": [
  {
   "cell_type": "markdown",
   "id": "developed-draft",
   "metadata": {},
   "source": [
    "# Name: Yu-Chen, Hsiao"
   ]
  },
  {
   "cell_type": "code",
   "execution_count": 1,
   "id": "unlimited-highland",
   "metadata": {},
   "outputs": [],
   "source": [
    "import pandas as pd\n",
    "from sklearn.model_selection import train_test_split\n",
    "from sklearn.linear_model import LogisticRegression\n",
    "from sklearn.preprocessing  import StandardScaler\n",
    "from sklearn.naive_bayes import MultinomialNB\n",
    "from sklearn.neighbors import KNeighborsClassifier\n",
    "from sklearn.linear_model import LinearRegression\n",
    "from sklearn import preprocessing\n",
    "from sklearn.preprocessing import Normalizer\n",
    "from sklearn.metrics import classification_report\n",
    "from sklearn.metrics import accuracy_score\n",
    "from sklearn.naive_bayes import GaussianNB"
   ]
  },
  {
   "cell_type": "code",
   "execution_count": 2,
   "id": "running-humidity",
   "metadata": {},
   "outputs": [],
   "source": [
    "df = pd.read_csv('C:/Users/Spyder/Documents/MobaXterm/home/Titanic/Data/jhetrick.io/ANLT210/titanic.csv')"
   ]
  },
  {
   "cell_type": "code",
   "execution_count": 3,
   "id": "cleared-situation",
   "metadata": {},
   "outputs": [],
   "source": [
    "sex_mapping = {\n",
    "           'male': 1,\n",
    "           'female': 0}\n",
    "df['Sex'] = df['Sex'].map(sex_mapping)"
   ]
  },
  {
   "cell_type": "code",
   "execution_count": 4,
   "id": "first-intervention",
   "metadata": {},
   "outputs": [],
   "source": [
    "df1 = df.drop('Name',axis = 1)"
   ]
  },
  {
   "cell_type": "markdown",
   "id": "stunning-drinking",
   "metadata": {},
   "source": [
    "# Normalize"
   ]
  },
  {
   "cell_type": "code",
   "execution_count": 5,
   "id": "graduate-world",
   "metadata": {},
   "outputs": [],
   "source": [
    "x = df1.values\n",
    "min_max_scaler = preprocessing.MinMaxScaler()\n",
    "x_scaled = min_max_scaler.fit_transform(x)\n",
    "df1 = pd.DataFrame(x_scaled)"
   ]
  },
  {
   "cell_type": "code",
   "execution_count": 6,
   "id": "liable-worcester",
   "metadata": {},
   "outputs": [],
   "source": [
    "x = df1.iloc[:,1:]\n",
    "y = df1.iloc[:,0]"
   ]
  },
  {
   "cell_type": "markdown",
   "id": "above-hamburg",
   "metadata": {},
   "source": [
    "# Logistic Regression"
   ]
  },
  {
   "cell_type": "code",
   "execution_count": 7,
   "id": "amazing-richards",
   "metadata": {},
   "outputs": [
    {
     "data": {
      "text/plain": [
       "0.8239700374531835"
      ]
     },
     "execution_count": 7,
     "metadata": {},
     "output_type": "execute_result"
    }
   ],
   "source": [
    "x_train,x_test,y_train,y_test=train_test_split(x,y,test_size=0.3,random_state=55)\n",
    "lr=LogisticRegression().fit(x_train,y_train)\n",
    "lr.predict(x_test)\n",
    "sum(lr.predict(x_test) == y_test)/len(x_test)"
   ]
  },
  {
   "cell_type": "markdown",
   "id": "miniature-harvest",
   "metadata": {},
   "source": [
    "# Gaussian Navie Bayes"
   ]
  },
  {
   "cell_type": "code",
   "execution_count": 8,
   "id": "statewide-impression",
   "metadata": {},
   "outputs": [
    {
     "data": {
      "text/plain": [
       "0.8277153558052435"
      ]
     },
     "execution_count": 8,
     "metadata": {},
     "output_type": "execute_result"
    }
   ],
   "source": [
    "nb = GaussianNB().fit(x_train, y_train)\n",
    "nb.predict(x_test)\n",
    "sum(nb.predict(x_test) == y_test)/len(x_test)"
   ]
  },
  {
   "cell_type": "markdown",
   "id": "collectible-dinner",
   "metadata": {},
   "source": [
    "# K-nearest Neighbor"
   ]
  },
  {
   "cell_type": "code",
   "execution_count": 9,
   "id": "adequate-invitation",
   "metadata": {},
   "outputs": [],
   "source": [
    "k = []\n",
    "accuracy = []\n",
    "for i in range(1,len(x_train)):\n",
    "    knn = KNeighborsClassifier(n_neighbors=i).fit(x_train, y_train)\n",
    "    knn.predict(x_test)\n",
    "    acc = sum(knn.predict(x_test) == y_test)/len(x_test)\n",
    "    k.append(i)\n",
    "    accuracy.append(acc)"
   ]
  },
  {
   "cell_type": "code",
   "execution_count": 12,
   "id": "actual-creativity",
   "metadata": {},
   "outputs": [
    {
     "data": {
      "text/plain": [
       "0.8539325842696629"
      ]
     },
     "execution_count": 12,
     "metadata": {},
     "output_type": "execute_result"
    }
   ],
   "source": [
    "K = pd.DataFrame(k)\n",
    "K['Accuracy'] = accuracy\n",
    "K = K.rename(columns={0:'K'})\n",
    "K.sort_values(by = 'Accuracy', ascending = False)\n",
    "max(K['Accuracy'])"
   ]
  },
  {
   "cell_type": "markdown",
   "id": "auburn-louis",
   "metadata": {},
   "source": [
    "# Linear Regression"
   ]
  },
  {
   "cell_type": "code",
   "execution_count": 13,
   "id": "offshore-worthy",
   "metadata": {},
   "outputs": [
    {
     "data": {
      "text/plain": [
       "0.8239700374531835"
      ]
     },
     "execution_count": 13,
     "metadata": {},
     "output_type": "execute_result"
    }
   ],
   "source": [
    "reg = LinearRegression().fit(x, y)\n",
    "sur = reg.predict(x_test)\n",
    "s = []\n",
    "for s1 in sur:\n",
    "    if s1 < 0.5:\n",
    "        s.append(0)\n",
    "    else:\n",
    "        s.append(1)\n",
    "sum(s == y_test)/len(x_test)"
   ]
  },
  {
   "cell_type": "markdown",
   "id": "critical-cowboy",
   "metadata": {},
   "source": [
    "# Summary"
   ]
  },
  {
   "cell_type": "markdown",
   "id": "genetic-folks",
   "metadata": {},
   "source": [
    "I tried 4 models to predict the probability of surviving. The model with highest accuracy is Knn model while k equals to 15. The predicting accuracy is round 85%."
   ]
  }
 ],
 "metadata": {
  "kernelspec": {
   "display_name": "Python 3",
   "language": "python",
   "name": "python3"
  },
  "language_info": {
   "codemirror_mode": {
    "name": "ipython",
    "version": 3
   },
   "file_extension": ".py",
   "mimetype": "text/x-python",
   "name": "python",
   "nbconvert_exporter": "python",
   "pygments_lexer": "ipython3",
   "version": "3.8.5"
  }
 },
 "nbformat": 4,
 "nbformat_minor": 5
}
